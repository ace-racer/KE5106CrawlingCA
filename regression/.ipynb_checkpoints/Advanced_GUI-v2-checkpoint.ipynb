{
 "cells": [
  {
   "cell_type": "code",
   "execution_count": 1,
   "metadata": {},
   "outputs": [
    {
     "name": "stderr",
     "output_type": "stream",
     "text": [
      "/anaconda3/lib/python3.6/site-packages/sklearn/ensemble/weight_boosting.py:29: DeprecationWarning: numpy.core.umath_tests is an internal NumPy module and should not be imported. It will be removed in a future NumPy release.\n",
      "  from numpy.core.umath_tests import inner1d\n"
     ]
    }
   ],
   "source": [
    "import pickle\n",
    "import ipywidgets as widgets\n",
    "from ipywidgets import Layout, Text, Box, Label\n",
    "from sklearn.ensemble import RandomForestClassifier, AdaBoostClassifier\n",
    "import numpy as np\n",
    "import pandas as pd"
   ]
  },
  {
   "cell_type": "code",
   "execution_count": 2,
   "metadata": {},
   "outputs": [],
   "source": [
    "vehicle_types_names = ['hatchback','luxury sedan', 'sedan','mpv', 'suv']\n",
    "manufacturers_names = ['Audi','BMW','Bentley','Chery','Chevrolet','Chrysler','Citroen','Daihatsu','Dodge','Ferrari','Fiat','Ford','Foton','Honda','Hyundai','Infiniti','Jaguar','Jeep','Kia','Lamborghini','Lexus','Lotus','Maserati','Maybach','Mazda','McLaren','Mercedes-Benz','Mini','Mitsubishi','Mitsuoka','Nissan','Opel','Perodua','Peugeot','Porsche','Proton','Renault','Rolls-Royce','Rover','SEAT','Saab','Skoda','Smart','Ssangyong','Subaru','Suzuki','Toyota','Volkswagen','Volvo']\n",
    "models_names = ['Civic', 'Jetta']"
   ]
  },
  {
   "cell_type": "code",
   "execution_count": 3,
   "metadata": {},
   "outputs": [
    {
     "name": "stderr",
     "output_type": "stream",
     "text": [
      "/anaconda3/lib/python3.6/importlib/_bootstrap.py:219: RuntimeWarning: numpy.dtype size changed, may indicate binary incompatibility. Expected 96, got 88\n",
      "  return f(*args, **kwds)\n"
     ]
    }
   ],
   "source": [
    "clf = pickle.load(open('Cars_regression_Ada_V8.pkcls','rb'))"
   ]
  },
  {
   "cell_type": "code",
   "execution_count": 4,
   "metadata": {},
   "outputs": [],
   "source": [
    "def predict_price(coe, engine_cap, mileage, no_of_owners, omv, age, road_tax, vehicle_type):\n",
    "    mean = np.array([52770.39832, 1988.309817, 67966.74175, 1.55558406, 37103.6482, 4.876186828, 1271.042415])\n",
    "    std_dev = np.array([20327.42149, 745.0613451, 44829.13744, 0.863893405, 37785.16478, 2.883229426, 981.6514266])\n",
    "\n",
    "    inputs = np.array([coe, engine_cap, mileage, no_of_owners, omv, age, road_tax])\n",
    "\n",
    "    normalized = list((inputs - mean)/std_dev)\n",
    "\n",
    "    zero_data = np.zeros(shape=(1, len(vehicle_types_names)))\n",
    "\n",
    "    pd_vehicle_type=pd.DataFrame(zero_data,columns=vehicle_types_names)\n",
    "\n",
    "    pd_vehicle_type.loc[0,vehicle_type]=1\n",
    "\n",
    "    list_vehicle_type=pd_vehicle_type.loc[0, :].values.tolist()\n",
    "\n",
    "    test_input = [normalized + list_vehicle_type]\n",
    "\n",
    "    price = clf.predict(test_input)\n",
    "    \n",
    "    return price[0]"
   ]
  },
  {
   "cell_type": "code",
   "execution_count": 6,
   "metadata": {},
   "outputs": [
    {
     "data": {
      "application/vnd.jupyter.widget-view+json": {
       "model_id": "45c457b2490b45d699361ee909094970",
       "version_major": 2,
       "version_minor": 0
      },
      "text/html": [
       "<p>Failed to display Jupyter Widget of type <code>Box</code>.</p>\n",
       "<p>\n",
       "  If you're reading this message in the Jupyter Notebook or JupyterLab Notebook, it may mean\n",
       "  that the widgets JavaScript is still loading. If this message persists, it\n",
       "  likely means that the widgets JavaScript library is either not installed or\n",
       "  not enabled. See the <a href=\"https://ipywidgets.readthedocs.io/en/stable/user_install.html\">Jupyter\n",
       "  Widgets Documentation</a> for setup instructions.\n",
       "</p>\n",
       "<p>\n",
       "  If you're reading this message in another frontend (for example, a static\n",
       "  rendering on GitHub or <a href=\"https://nbviewer.jupyter.org/\">NBViewer</a>),\n",
       "  it may mean that your frontend doesn't currently support widgets.\n",
       "</p>\n"
      ],
      "text/plain": [
       "Box(children=(Box(children=(Label(value='Age (years)'), FloatSlider(value=3.8, continuous_update=False, max=20.0)), layout=Layout(display='flex', flex_flow='row', justify_content='space-between')), Box(children=(Label(value='Mileage (km)'), BoundedIntText(value=101000, max=400000, step=50)), layout=Layout(display='flex', flex_flow='row', justify_content='space-between')), Box(children=(Label(value='Engine Capacity (cc)'), BoundedIntText(value=1591, max=7500, step=50)), layout=Layout(display='flex', flex_flow='row', justify_content='space-between')), Box(children=(Label(value='Road Tax ($)'), BoundedIntText(value=738, max=10000, step=50)), layout=Layout(display='flex', flex_flow='row', justify_content='space-between')), Box(children=(Label(value='COE ($)'), BoundedIntText(value=64201, max=120000, step=50)), layout=Layout(display='flex', flex_flow='row', justify_content='space-between')), Box(children=(Label(value='OMV ($)'), BoundedIntText(value=14417, max=1000000, step=50)), layout=Layout(display='flex', flex_flow='row', justify_content='space-between')), Box(children=(Label(value='No. of Owners'), IntSlider(value=1, continuous_update=False, max=10, min=1)), layout=Layout(display='flex', flex_flow='row', justify_content='space-between')), Box(children=(Label(value='Vehicle Type'), Dropdown(index=2, options=('hatchback', 'luxury sedan', 'sedan', 'mpv', 'suv'), value='sedan')), layout=Layout(display='flex', flex_flow='row', justify_content='space-between')), Box(children=(Label(value='Manufacturer * Future *'), Dropdown(index=14, options=('Audi', 'BMW', 'Bentley', 'Chery', 'Chevrolet', 'Chrysler', 'Citroen', 'Daihatsu', 'Dodge', 'Ferrari', 'Fiat', 'Ford', 'Foton', 'Honda', 'Hyundai', 'Infiniti', 'Jaguar', 'Jeep', 'Kia', 'Lamborghini', 'Lexus', 'Lotus', 'Maserati', 'Maybach', 'Mazda', 'McLaren', 'Mercedes-Benz', 'Mini', 'Mitsubishi', 'Mitsuoka', 'Nissan', 'Opel', 'Perodua', 'Peugeot', 'Porsche', 'Proton', 'Renault', 'Rolls-Royce', 'Rover', 'SEAT', 'Saab', 'Skoda', 'Smart', 'Ssangyong', 'Subaru', 'Suzuki', 'Toyota', 'Volkswagen', 'Volvo'), value='Hyundai')), layout=Layout(display='flex', flex_flow='row', justify_content='space-between')), Box(children=(Label(value='Model * Future *'), Text(value='Elantra')), layout=Layout(display='flex', flex_flow='row', justify_content='space-between')), Box(children=(Label(value='Current COE Price * Future *'), BoundedFloatText(value=40000.0, max=750000.0, step=50.0)), layout=Layout(display='flex', flex_flow='row', justify_content='space-between')), Box(children=(Button(description='Predict!', style=ButtonStyle()),), layout=Layout(display='flex', flex_flow='row', justify_content='space-between')), Box(children=(Label(value='Predicted Price'), HTML(value='0', placeholder='0')), layout=Layout(display='flex', flex_flow='row', justify_content='space-between'))), layout=Layout(align_items='stretch', display='flex', flex_flow='column', width='500px'))"
      ]
     },
     "metadata": {},
     "output_type": "display_data"
    }
   ],
   "source": [
    "input_coe = widgets.BoundedIntText(\n",
    "    value=64201,\n",
    "    min=0,\n",
    "    max=120000,\n",
    "    step=50,\n",
    "    disabled=False\n",
    ")\n",
    "input_engine_cap = widgets.BoundedIntText(\n",
    "    value=1591,\n",
    "    min=0,\n",
    "    max=7500,\n",
    "    step=50,\n",
    "    disabled=False\n",
    ")\n",
    "input_mileage = widgets.BoundedIntText(\n",
    "    value=101000,\n",
    "    min=0,\n",
    "    max=400000,\n",
    "    step=50,\n",
    "    disabled=False\n",
    ")\n",
    "input_no_of_owners = widgets.IntSlider(\n",
    "    value=1,\n",
    "    min=1,\n",
    "    max=10,\n",
    "    step=1,\n",
    "    disabled=False,\n",
    "    continuous_update=False,\n",
    "    orientation='horizontal',\n",
    "    readout=True,\n",
    "    readout_format='d'\n",
    ")\n",
    "input_omv = widgets.BoundedIntText(\n",
    "    value=14417,\n",
    "    min=0,\n",
    "    max=1000000,\n",
    "    step=50,\n",
    "    disabled=False\n",
    ")\n",
    "input_age = widgets.FloatSlider(\n",
    "    value=3.8,\n",
    "    min=0.0,\n",
    "    max=20.0,\n",
    "    step=0.1,\n",
    "    disabled=False,\n",
    "    continuous_update=False,\n",
    "    orientation='horizontal',\n",
    "    readout=True,\n",
    "    readout_format='.2f'\n",
    ")\n",
    "input_road_tax = widgets.BoundedIntText(\n",
    "    value=738,\n",
    "    min=0,\n",
    "    max=10000,\n",
    "    step=50,\n",
    "    disabled=False\n",
    ")\n",
    "input_vehicle_type = widgets.Dropdown(\n",
    "    options=vehicle_types_names,\n",
    "    value='sedan',\n",
    "    disabled=False,\n",
    ")\n",
    "input_manufacturer = widgets.Dropdown(\n",
    "    options=manufacturers_names,\n",
    "    value='Hyundai',\n",
    "    disabled=False,\n",
    ")\n",
    "# input_model = widgets.Dropdown(\n",
    "#     options=models_names,\n",
    "#     value='Jetta',\n",
    "#     disabled=False,\n",
    "# )\n",
    "input_model = widgets.Text(\n",
    "    value='Elantra',\n",
    "    disabled=False,\n",
    ")\n",
    "input_current_coe_price  = widgets.BoundedFloatText(\n",
    "    value=40000.0,\n",
    "    min=0.0,\n",
    "    max=750000.0,\n",
    "    step=50.0,\n",
    "    disabled=False\n",
    ")\n",
    "\n",
    "label_predicted_price = widgets.HTML(\n",
    "    value='0',\n",
    "    placeholder='0',\n",
    "    disabled=False\n",
    ")\n",
    "\n",
    "button = widgets.Button(description=\"Predict!\")\n",
    "\n",
    "def on_button_clicked(b):\n",
    "    label_predicted_price.value = \"${}\".format(predict_price(input_coe.value, input_engine_cap.value, input_mileage.value, input_no_of_owners.value, input_omv.value, input_age.value, input_road_tax.value, input_vehicle_type.value))\n",
    "\n",
    "button.on_click(on_button_clicked)\n",
    "\n",
    "form_item_layout = Layout(\n",
    "    display='flex',\n",
    "    flex_flow='row',\n",
    "    justify_content='space-between'\n",
    ")\n",
    "\n",
    "form_items = [\n",
    "    Box([Label(value='Age left [COE] (years)'), input_age], layout=form_item_layout),\n",
    "    Box([Label(value='Mileage (km)'), input_mileage], layout=form_item_layout),\n",
    "    Box([Label(value='Engine Capacity (cc)'), input_engine_cap], layout=form_item_layout),\n",
    "    Box([Label(value='Road Tax ($)'), input_road_tax], layout=form_item_layout),\n",
    "    Box([Label(value='COE ($)'), input_coe], layout=form_item_layout),\n",
    "    Box([Label(value='OMV ($)'), input_omv], layout=form_item_layout),\n",
    "    Box([Label(value='No. of Owners'), input_no_of_owners], layout=form_item_layout),\n",
    "    Box([Label(value='Vehicle Type'), input_vehicle_type], layout=form_item_layout),\n",
    "    Box([Label(value='Manufacturer * Future *'), input_manufacturer], layout=form_item_layout),\n",
    "    Box([Label(value='Model * Future *'), input_model], layout=form_item_layout),\n",
    "    Box([Label(value='Current COE Price * Future *'), input_current_coe_price], layout=form_item_layout),\n",
    "    Box([button], layout=form_item_layout),\n",
    "    Box([Label(value='Predicted Price'), label_predicted_price], layout=form_item_layout),\n",
    "]\n",
    "\n",
    "form = Box(form_items, layout=Layout(\n",
    "    display='flex',\n",
    "    flex_flow='column',\n",
    "    align_items='stretch',\n",
    "    width='500px'\n",
    "))\n",
    "\n",
    "display(form)"
   ]
  },
  {
   "cell_type": "code",
   "execution_count": null,
   "metadata": {},
   "outputs": [],
   "source": []
  }
 ],
 "metadata": {
  "kernelspec": {
   "display_name": "Python 3",
   "language": "python",
   "name": "python3"
  },
  "language_info": {
   "codemirror_mode": {
    "name": "ipython",
    "version": 3
   },
   "file_extension": ".py",
   "mimetype": "text/x-python",
   "name": "python",
   "nbconvert_exporter": "python",
   "pygments_lexer": "ipython3",
   "version": "3.6.6"
  }
 },
 "nbformat": 4,
 "nbformat_minor": 2
}
